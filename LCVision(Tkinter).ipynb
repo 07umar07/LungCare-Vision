{
 "cells": [
  {
   "cell_type": "markdown",
   "metadata": {},
   "source": [
    "# **Test and Use the model**\n",
    "I have trained the model in Google Colab, and now we can test whether it can detect TBC or not."
   ]
  },
  {
   "cell_type": "code",
   "execution_count": 1,
   "metadata": {},
   "outputs": [
    {
     "name": "stderr",
     "output_type": "stream",
     "text": [
      "2025-01-12 18:08:17.441456: I external/local_xla/xla/tsl/cuda/cudart_stub.cc:32] Could not find cuda drivers on your machine, GPU will not be used.\n",
      "2025-01-12 18:08:17.445549: I external/local_xla/xla/tsl/cuda/cudart_stub.cc:32] Could not find cuda drivers on your machine, GPU will not be used.\n",
      "2025-01-12 18:08:17.458059: E external/local_xla/xla/stream_executor/cuda/cuda_fft.cc:485] Unable to register cuFFT factory: Attempting to register factory for plugin cuFFT when one has already been registered\n",
      "2025-01-12 18:08:17.478264: E external/local_xla/xla/stream_executor/cuda/cuda_dnn.cc:8454] Unable to register cuDNN factory: Attempting to register factory for plugin cuDNN when one has already been registered\n",
      "2025-01-12 18:08:17.483886: E external/local_xla/xla/stream_executor/cuda/cuda_blas.cc:1452] Unable to register cuBLAS factory: Attempting to register factory for plugin cuBLAS when one has already been registered\n",
      "2025-01-12 18:08:17.499367: I tensorflow/core/platform/cpu_feature_guard.cc:210] This TensorFlow binary is optimized to use available CPU instructions in performance-critical operations.\n",
      "To enable the following instructions: AVX2 FMA, in other operations, rebuild TensorFlow with the appropriate compiler flags.\n",
      "2025-01-12 18:08:18.777831: W tensorflow/compiler/tf2tensorrt/utils/py_utils.cc:38] TF-TRT Warning: Could not find TensorRT\n"
     ]
    }
   ],
   "source": [
    "import numpy as np\n",
    "import tensorflow as tf\n",
    "import os\n",
    "from PIL import Image, ImageTk"
   ]
  },
  {
   "cell_type": "markdown",
   "metadata": {},
   "source": [
    "# 1. Load and Allocate the Model\n",
    "Load model to the environment and allocate memory for it."
   ]
  },
  {
   "cell_type": "code",
   "execution_count": 2,
   "metadata": {},
   "outputs": [
    {
     "name": "stderr",
     "output_type": "stream",
     "text": [
      "INFO: Created TensorFlow Lite XNNPACK delegate for CPU.\n"
     ]
    }
   ],
   "source": [
    "interpreter = tf.lite.Interpreter(model_path='/home/umar/myenv/SelfProject/TBCMLModels/NEW2_3.tflite')\n",
    "interpreter.allocate_tensors()"
   ]
  },
  {
   "cell_type": "markdown",
   "metadata": {},
   "source": [
    "# 2. Get Input & Output from the Model\n",
    "We should get the architecture and information of input & output within the model."
   ]
  },
  {
   "cell_type": "code",
   "execution_count": 3,
   "metadata": {},
   "outputs": [
    {
     "name": "stdout",
     "output_type": "stream",
     "text": [
      "[{'name': 'serving_default_keras_tensor_70:0', 'index': 0, 'shape': array([  1, 224, 224,   1], dtype=int32), 'shape_signature': array([ -1, 224, 224,   1], dtype=int32), 'dtype': <class 'numpy.float32'>, 'quantization': (0.0, 0), 'quantization_parameters': {'scales': array([], dtype=float32), 'zero_points': array([], dtype=int32), 'quantized_dimension': 0}, 'sparsity_parameters': {}}]\n",
      "[{'name': 'StatefulPartitionedCall_1:0', 'index': 49, 'shape': array([1, 1], dtype=int32), 'shape_signature': array([-1,  1], dtype=int32), 'dtype': <class 'numpy.float32'>, 'quantization': (0.0, 0), 'quantization_parameters': {'scales': array([], dtype=float32), 'zero_points': array([], dtype=int32), 'quantized_dimension': 0}, 'sparsity_parameters': {}}]\n"
     ]
    }
   ],
   "source": [
    "input_details= interpreter.get_input_details()\n",
    "output_details= interpreter.get_output_details()\n",
    "\n",
    "print(input_details)\n",
    "print(output_details)"
   ]
  },
  {
   "cell_type": "markdown",
   "metadata": {},
   "source": [
    "# 3. Create a Function for Predicting"
   ]
  },
  {
   "cell_type": "code",
   "execution_count": 4,
   "metadata": {},
   "outputs": [],
   "source": [
    "def output_predict(X):\n",
    "  input_data = X.astype(np.float32)\n",
    "  interpreter.set_tensor(input_details[0]['index'], input_data)\n",
    "  interpreter.invoke()\n",
    "  predictions= interpreter.get_tensor(output_details[0]['index']).ravel()\n",
    "\n",
    "  if predictions[0] < 0.5:\n",
    "    print('The lung looks good')\n",
    "    print(f'The percentages of Tuberculosis exist is {predictions[0] * 100:.2f} %')\n",
    "  else:\n",
    "    print('There is high chances that the lung have Tuberculosis in it')\n",
    "    print(f'The percentages of Tuberculosis exist is {predictions[0] * 100:.2f} %')"
   ]
  },
  {
   "cell_type": "markdown",
   "metadata": {},
   "source": [
    "# 4. Load the picture"
   ]
  },
  {
   "cell_type": "code",
   "execution_count": 5,
   "metadata": {},
   "outputs": [
    {
     "data": {
      "text/plain": [
       "(1, 224, 224, 1)"
      ]
     },
     "execution_count": 5,
     "metadata": {},
     "output_type": "execute_result"
    }
   ],
   "source": [
    "img_path = '/home/umar/Documents/Datasets/TB_Chest_Radiography_Database/Test/Tuberculosis/Tuberculosis-2935.png'\n",
    "img = Image.open(img_path).convert('L')\n",
    "img= img.resize((224, 224))\n",
    "img_array= np.array(img)\n",
    "img_array = img_array.reshape(1, 224, 224, 1)\n",
    "img_array = img_array/255.0\n",
    "img_array.shape"
   ]
  },
  {
   "cell_type": "markdown",
   "metadata": {},
   "source": [
    "# 5. Test"
   ]
  },
  {
   "cell_type": "code",
   "execution_count": 6,
   "metadata": {},
   "outputs": [
    {
     "name": "stdout",
     "output_type": "stream",
     "text": [
      "There is high chances that the lung have Tuberculosis in it\n",
      "The percentages of Tuberculosis exist is 98.98 %\n"
     ]
    }
   ],
   "source": [
    "output_predict(img_array)"
   ]
  },
  {
   "cell_type": "markdown",
   "metadata": {},
   "source": [
    "# **Create GUI Functionality**"
   ]
  },
  {
   "cell_type": "code",
   "execution_count": 13,
   "metadata": {},
   "outputs": [],
   "source": [
    "import tkinter as tk\n",
    "from tkinterdnd2 import DND_FILES, TkinterDnD\n",
    "from tkinter import filedialog\n",
    "from tkinter import ttk\n",
    "from PIL import Image, ImageTk\n",
    "import numpy as np\n",
    "import tensorflow as tf\n",
    "\n",
    "\n",
    "def output_predict(X):\n",
    "    input_data = X.astype(np.float32)\n",
    "    interpreter.set_tensor(input_details[0]['index'], input_data)\n",
    "    interpreter.invoke()\n",
    "    predictions = interpreter.get_tensor(output_details[0]['index']).ravel()\n",
    "\n",
    "    if predictions[0] < 0.5:\n",
    "        return f'The lung looks good\\nThe percentage of Tuberculosis present is {predictions[0] * 100:.2f}%'\n",
    "    else:\n",
    "        return f'There is a high chance that the lung has Tuberculosis\\nThe percentage of Tuberculosis present is {predictions[0] * 100:.2f}%'\n",
    "\n",
    "\n",
    "def load_image(img_path):\n",
    "    img = Image.open(img_path).convert('L')\n",
    "    img = img.resize((224, 224))\n",
    "    img_array = np.array(img).reshape(1, 224, 224, 1) / 255.0\n",
    "    return img_array\n",
    "\n",
    "\n",
    "def process_image(file_path):\n",
    "    img_array = load_image(file_path)\n",
    "    result_text = output_predict(img_array)\n",
    "\n",
    "    # Display the image in grayscale\n",
    "    img = Image.open(file_path)\n",
    "    img = img.resize((224, 224))\n",
    "    img = ImageTk.PhotoImage(img.convert('L'))\n",
    "\n",
    "    image_label.config(image=img)\n",
    "    image_label.image = img\n",
    "\n",
    "    image_frame.pack(pady=10)\n",
    "    result_label.config(text=result_text)\n",
    "    result_frame.pack(pady=10)\n",
    "    back_button.pack(pady=20)  # Show the back button\n",
    "    drag_drop_frame.pack_forget()  # Hide drag-and-drop interface\n",
    "    button.pack_forget()  # Hide the file chooser button\n",
    "\n",
    "\n",
    "def on_drop(event):\n",
    "    file_path = event.data.strip('{}')  # Get the dragged file path\n",
    "    process_image(file_path)\n",
    "\n",
    "\n",
    "def choose_image():\n",
    "    file_path = filedialog.askopenfilename(filetypes=[(\"PNG Images\", \"*.png\")])\n",
    "    if file_path:\n",
    "        process_image(file_path)\n",
    "\n",
    "\n",
    "def go_back():\n",
    "    # Reset the interface\n",
    "    result_label.config(text=\"\")\n",
    "    image_label.config(image=\"\")\n",
    "    image_frame.pack_forget()\n",
    "    result_frame.pack_forget()\n",
    "    back_button.pack_forget()  # Hide the back button\n",
    "    button.pack(pady=20)  # Show the file chooser button\n",
    "    drag_drop_frame.pack(pady=10)  # Show drag-and-drop interface\n",
    "\n",
    "\n",
    "# Create the main window\n",
    "root = TkinterDnD.Tk()  # Use TkinterDnD.Tk instead of tk.Tk\n",
    "root.title(\"TB Lung Image Predictor\")\n",
    "root.geometry(\"500x700\")\n",
    "root.configure(bg=\"#F8F8F8\")  # Light background for elegance\n",
    "\n",
    "# Apply Style Theme\n",
    "style = ttk.Style()\n",
    "style.theme_use('clam')\n",
    "\n",
    "# Define custom style for the button\n",
    "style.configure('Custom.TButton',\n",
    "                font=('Helvetica', 14),\n",
    "                padding=10,\n",
    "                borderwidth=0,\n",
    "                relief=\"solid\",\n",
    "                foreground=\"white\",\n",
    "                background=\"#5A9\",\n",
    "                focuscolor=\"none\")\n",
    "\n",
    "# Create a title label\n",
    "title_label = tk.Label(root, text=\"TB Lung Image Predictor\", font=(\"Helvetica\", 18, \"bold\"), bg=\"#F8F8F8\", fg=\"#333\")\n",
    "title_label.pack(pady=20)\n",
    "\n",
    "# Create a frame for the image display\n",
    "image_frame = tk.Frame(root, bg=\"#FFFFFF\", relief=\"groove\", bd=2)\n",
    "image_label = ttk.Label(image_frame, background=\"#FFFFFF\")\n",
    "image_label.pack(padx=10, pady=10)\n",
    "\n",
    "# Create a button for image selection\n",
    "button = ttk.Button(root, text=\"Choose the Image\", command=choose_image, style='Custom.TButton')\n",
    "button.pack(pady=20)\n",
    "\n",
    "# Create a drag-and-drop frame\n",
    "drag_drop_frame = tk.Frame(root, bg=\"#F0F0F0\", relief=\"ridge\", bd=2, height=100, width=400)\n",
    "drag_drop_frame.pack_propagate(False)\n",
    "drag_drop_frame.pack(pady=10)\n",
    "\n",
    "drag_drop_label = tk.Label(drag_drop_frame, text=\"Or drag and drop PNG image here\", font=(\"Helvetica\", 12), bg=\"#F0F0F0\", fg=\"#666\")\n",
    "drag_drop_label.pack(expand=True)\n",
    "\n",
    "# Add a drop target for drag-and-drop functionality\n",
    "drag_drop_frame.drop_target_register(DND_FILES)\n",
    "drag_drop_frame.dnd_bind('<<Drop>>', on_drop)\n",
    "\n",
    "# Create a frame for the prediction result\n",
    "result_frame = tk.Frame(root, bg=\"#FFFFFF\", relief=\"ridge\", bd=2)\n",
    "result_label = tk.Label(result_frame, text=\"\", wraplength=500, font=(\"Helvetica\", 14), bg=\"#FFFFFF\", fg=\"#333\")\n",
    "result_label.pack(padx=10, pady=10)\n",
    "\n",
    "# Add a \"Back\" button to reset the interface\n",
    "back_button = ttk.Button(root, text=\"Back\", command=go_back, style='Custom.TButton')\n",
    "back_button.pack_forget()  # Initially hide the back button\n",
    "\n",
    "# Footer frame\n",
    "footer_frame = tk.Frame(root, bg=\"#F8F8F8\")\n",
    "footer_frame.pack(side=\"bottom\", fill=\"x\", pady=5)\n",
    "\n",
    "# Footer content: copyright, GitHub link, version\n",
    "copyright_label = tk.Label(\n",
    "    footer_frame, \n",
    "    text=\"© 2025 Umar Robbani - Licensed under GPLv3\", \n",
    "    font=(\"Helvetica\", 12), \n",
    "    bg=\"#F8F8F8\", \n",
    "    fg=\"#666\"\n",
    ")\n",
    "copyright_label.pack(side=\"left\", padx=10)\n",
    "\n",
    "github_label = tk.Label(\n",
    "    footer_frame, \n",
    "    text=\"GitHub\", \n",
    "    font=(\"Helvetica\", 12, \"underline\"), \n",
    "    bg=\"#F8F8F8\", \n",
    "    fg=\"#1E90FF\", \n",
    "    cursor=\"hand2\"\n",
    ")\n",
    "github_label.pack(side=\"left\", padx=10)\n",
    "github_label.bind(\"<Button-1>\", lambda e: open_github())\n",
    "\n",
    "version_label = tk.Label(footer_frame, text=\"v1.0.0\", font=(\"Helvetica\", 12), bg=\"#F8F8F8\", fg=\"#666\")\n",
    "version_label.pack(side=\"right\", padx=10)\n",
    "\n",
    "\n",
    "# Function to open GitHub link\n",
    "def open_github():\n",
    "    import webbrowser\n",
    "    webbrowser.open_new(\"https://github.com/07umar07/Tuberculosis-Detector\")\n",
    "\n",
    "# Initially hide the frames\n",
    "image_frame.pack_forget()\n",
    "result_frame.pack_forget()\n",
    "\n",
    "# Run the GUI event loop\n",
    "root.mainloop()\n"
   ]
  }
 ],
 "metadata": {
  "kernelspec": {
   "display_name": "myenv",
   "language": "python",
   "name": "python3"
  },
  "language_info": {
   "codemirror_mode": {
    "name": "ipython",
    "version": 3
   },
   "file_extension": ".py",
   "mimetype": "text/x-python",
   "name": "python",
   "nbconvert_exporter": "python",
   "pygments_lexer": "ipython3",
   "version": "3.11.2"
  }
 },
 "nbformat": 4,
 "nbformat_minor": 2
}
